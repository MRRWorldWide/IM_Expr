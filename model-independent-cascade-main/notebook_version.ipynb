{
 "cells": [
  {
   "cell_type": "code",
   "execution_count": 1,
   "metadata": {},
   "outputs": [],
   "source": [
    "# Packages\n",
    "\n",
    "import numpy as np\n",
    "import matplotlib.pyplot as plt"
   ]
  },
  {
   "cell_type": "code",
   "execution_count": 2,
   "metadata": {},
   "outputs": [],
   "source": [
    "# Parameters\n",
    "\n",
    "path = 'example_set_2.txt'\n",
    "N = 0.001\n",
    "threshold = 1"
   ]
  },
  {
   "cell_type": "markdown",
   "metadata": {},
   "source": [
    "# Data Processing"
   ]
  },
  {
   "cell_type": "code",
   "execution_count": 3,
   "metadata": {},
   "outputs": [],
   "source": [
    "# Data processing\n",
    "\n",
    "graph = []\n",
    "nodes = []\n",
    "\n",
    "file = open(path)\n",
    "for line in file:\n",
    "    source, target = line.split('\\t')\n",
    "    nodes.append(int(source))\n",
    "    nodes.append(int(target))\n",
    "    graph.append((int(source), int(target)))\n",
    "    \n",
    "nodes = list(set(nodes))\n",
    "n = int(len(nodes) * N)"
   ]
  },
  {
   "cell_type": "code",
   "execution_count": 4,
   "metadata": {},
   "outputs": [
    {
     "name": "stdout",
     "output_type": "stream",
     "text": [
      "Node number: 75879\n",
      "Edge number: 508837\n"
     ]
    }
   ],
   "source": [
    "# Print graph status\n",
    "\n",
    "print('Node number: {}'.format(len(nodes)))\n",
    "print('Edge number: {}'.format(len(graph)))"
   ]
  },
  {
   "cell_type": "markdown",
   "metadata": {},
   "source": [
    "# Seeds Selection"
   ]
  },
  {
   "cell_type": "markdown",
   "metadata": {},
   "source": [
    "## Degree"
   ]
  },
  {
   "cell_type": "code",
   "execution_count": 28,
   "metadata": {},
   "outputs": [],
   "source": [
    "# Seeds selection: Degree \n",
    "\n",
    "degree = {}\n",
    "\n",
    "for edge in graph: \n",
    "    if edge[0] in degree:\n",
    "        degree[edge[0]] += 1\n",
    "    else:\n",
    "        degree[edge[0]] = 1\n",
    "    if edge[1] in degree:\n",
    "        degree[edge[1]] += 1\n",
    "    else:\n",
    "        degree[edge[1]] = 1\n",
    "\n",
    "seeds = list({k: v for k, v in sorted(degree.items(), key=lambda item: item[1], reverse=True)}.keys())[:n]"
   ]
  },
  {
   "cell_type": "markdown",
   "metadata": {},
   "source": [
    "## Random"
   ]
  },
  {
   "cell_type": "code",
   "execution_count": 122,
   "metadata": {},
   "outputs": [],
   "source": [
    "# Seeds selection: Random\n",
    "\n",
    "seeds = []\n",
    "\n",
    "np.random.shuffle(nodes)\n",
    "\n",
    "seeds =  nodes[:n]"
   ]
  },
  {
   "cell_type": "markdown",
   "metadata": {},
   "source": [
    "## Degree Discount"
   ]
  },
  {
   "cell_type": "code",
   "execution_count": null,
   "metadata": {},
   "outputs": [],
   "source": [
    "# Seeds selection: Degree Discount\n",
    "\n",
    "out_degree = {}\n",
    "connection = {}\n",
    "seeds = []\n",
    "\n",
    "for edge in graph:\n",
    "    if edge[1] in connection:\n",
    "        connection[edge[1]].append(edge[0])\n",
    "    else:\n",
    "        connection[edge[1]] = [edge[0]]\n",
    "\n",
    "    if edge[0] in out_degree:\n",
    "        out_degree[edge[0]] += 1\n",
    "    else:\n",
    "        out_degree[edge[0]] = 1\n",
    "\n",
    "while len(seeds) < n:\n",
    "    # out_degree = {k: v for k, v in sorted(degree.items(), key=lambda item: item[0])}\n",
    "    seed = sorted(out_degree.items(), key=lambda item: item[1], reverse=True)[0][0]\n",
    "    seeds.append(seed)\n",
    "    out_degree[seed] = -1\n",
    "    for node in connection[seed]:\n",
    "        out_degree[node] -= 1"
   ]
  },
  {
   "cell_type": "markdown",
   "metadata": {},
   "source": [
    "## Degree Neighbor"
   ]
  },
  {
   "cell_type": "code",
   "execution_count": null,
   "metadata": {},
   "outputs": [],
   "source": [
    "# Seeds selection: Degree Neighbor\n",
    "\n",
    "out_degree = {}\n",
    "centrality_score = {}\n",
    "seeds = []\n",
    "\n",
    "for edge in graph:\n",
    "    if edge[0] in out_degree:\n",
    "        out_degree[edge[0]] += 1\n",
    "    else:\n",
    "        out_degree[edge[0]] = 1\n",
    "\n",
    "centrality_score = out_degree.copy()\n",
    "\n",
    "for edge in graph:\n",
    "    if edge[1] in out_degree:\n",
    "        centrality_score[edge[0]] += out_degree[edge[1]]\n",
    "    else:\n",
    "        pass\n",
    "\n",
    "i = 0\n",
    "centrality_score = {k: v for k, v in sorted(centrality_score.items(), key=lambda item: item[0])}\n",
    "for node, score in sorted(centrality_score.items(), key=lambda item: item[1], reverse=True):\n",
    "    if i >= n:\n",
    "        break\n",
    "    else:\n",
    "        i += 1\n",
    "    seeds.append(node)"
   ]
  },
  {
   "cell_type": "markdown",
   "metadata": {},
   "source": [
    "## Degree Neighbor Fix"
   ]
  },
  {
   "cell_type": "code",
   "execution_count": null,
   "metadata": {},
   "outputs": [],
   "source": [
    "# Seeds selection: Degree Neighbor Fix\n",
    "\n",
    "out_degree = {}\n",
    "centrality_score = {}\n",
    "connection = {}\n",
    "seeds = []\n",
    "\n",
    "for edge in graph:\n",
    "    if edge[1] in connection:\n",
    "        connection[edge[1]].append(edge[0])\n",
    "    else:\n",
    "        connection[edge[1]] = [edge[0]]\n",
    "\n",
    "    if edge[0] in out_degree:\n",
    "        out_degree[edge[0]] += 1\n",
    "    else:\n",
    "        out_degree[edge[0]] = 1\n",
    "\n",
    "centrality_score = out_degree.copy()\n",
    "\n",
    "for edge in graph:\n",
    "    if edge[1] in out_degree:\n",
    "        centrality_score[edge[0]] += out_degree[edge[1]]\n",
    "    else:\n",
    "        pass\n",
    "\n",
    "while len(seeds) < n:\n",
    "    seed = sorted(centrality_score.items(), key=lambda item: item[1], reverse=True)[0][0]\n",
    "    seeds.append(seed)\n",
    "    centrality_score[seed] = -1\n",
    "    for node in connection[seed]:\n",
    "        centrality_score[node] -= out_degree[seed]"
   ]
  },
  {
   "cell_type": "markdown",
   "metadata": {},
   "source": [
    "## MIA"
   ]
  },
  {
   "cell_type": "code",
   "execution_count": null,
   "metadata": {},
   "outputs": [],
   "source": [
    "# Seeds selection: MIA\n",
    "\n",
    "theta = 0.1\n",
    "nodes = []\n",
    "out_connection = {}\n",
    "centrality_score = {}\n",
    "seeds = []\n",
    "\n",
    "def calculate_centrality(node, out_connection, centrality_score, ap, theta):\n",
    "    if node not in out_connection.keys():\n",
    "        return 1\n",
    "    \n",
    "    ap *= 1 / len(out_connection[node])\n",
    "    if ap < theta:\n",
    "        return 1\n",
    "    \n",
    "    for sub_node in out_connection[node]:\n",
    "        centrality_score += calculate_centrality(sub_node, out_connection, centrality_score, ap, theta)\n",
    "    return centrality_score\n",
    "\n",
    "for edge in graph:\n",
    "    nodes.append(edge[0])\n",
    "    nodes.append(edge[1])\n",
    "\n",
    "    if edge[0] in out_connection:\n",
    "        out_connection[edge[0]].append(edge[1])\n",
    "    else:\n",
    "        out_connection[edge[0]] = [edge[1]]\n",
    "\n",
    "nodes = list(set(nodes))\n",
    "\n",
    "for node in nodes:\n",
    "    centrality_score[node] = calculate_centrality(node, out_connection, 0, ap=1, theta=theta)\n",
    "\n",
    "i = 0\n",
    "centrality_score = {k: v for k, v in sorted(centrality_score.items(), key=lambda item: item[0])}\n",
    "for node, score in sorted(centrality_score.items(), key=lambda item: item[1], reverse=True):\n",
    "    if i >= n:\n",
    "        break\n",
    "    else:\n",
    "        i += 1\n",
    "    seeds.append(node)"
   ]
  },
  {
   "cell_type": "markdown",
   "metadata": {},
   "source": [
    "# Calculate Influent Number (One Round)"
   ]
  },
  {
   "cell_type": "markdown",
   "metadata": {},
   "source": [
    "## Preparation"
   ]
  },
  {
   "cell_type": "code",
   "execution_count": 30,
   "metadata": {},
   "outputs": [],
   "source": [
    "in_degree = {}\n",
    "inactive_nodes = []\n",
    "active_nodes = []\n",
    "actived_nodes = []\n",
    "nodes_status = {}\n",
    "\n",
    "for edge in graph: \n",
    "    if edge[0] in seeds:\n",
    "        active_nodes.append(edge[0])\n",
    "    else:\n",
    "        inactive_nodes.append(edge[0])\n",
    "    \n",
    "    if edge[1] in seeds:\n",
    "        active_nodes.append(edge[1])\n",
    "    else:\n",
    "        inactive_nodes.append(edge[1])\n",
    "    \n",
    "    if edge[1] in in_degree:\n",
    "        in_degree[edge[1]] += 1\n",
    "    else:\n",
    "        in_degree[edge[1]] = 1\n",
    "\n",
    "active_nodes = list(set(active_nodes))\n",
    "inactive_nodes = list(set(inactive_nodes))\n",
    "\n",
    "for node in nodes:\n",
    "    nodes_status[node] = 0\n",
    "for node in active_nodes:\n",
    "    nodes_status[node] = 1"
   ]
  },
  {
   "cell_type": "markdown",
   "metadata": {},
   "source": [
    "## Calculation"
   ]
  },
  {
   "cell_type": "code",
   "execution_count": 32,
   "metadata": {},
   "outputs": [],
   "source": [
    "epoch = 0\n",
    "num_new_actived_nodes = []\n",
    "num_actived_nodes = 0\n",
    "num_actived_nodes_list = []\n",
    "while(active_nodes):\n",
    "    epoch += 1\n",
    "    num_new_actived_nodes.append(len(active_nodes))\n",
    "    num_actived_nodes += len(active_nodes)\n",
    "    num_actived_nodes_list.append(num_actived_nodes)\n",
    "    \n",
    "    new_actived_nodes = []\n",
    "    for edge in graph:\n",
    "        if nodes_status[edge[0]] == 1:\n",
    "            if nodes_status[edge[1]] == 0:\n",
    "                p = np.array([1 - threshold / in_degree[edge[1]], threshold / in_degree[edge[1]]])\n",
    "                flag = np.random.choice([0, 1], p=p.ravel())\n",
    "\n",
    "                if flag:\n",
    "                    new_actived_nodes.append(edge[1])\n",
    "    \n",
    "    for node in active_nodes:\n",
    "        nodes_status[node] = 2\n",
    "    for node in new_actived_nodes:\n",
    "        nodes_status[node] = 1\n",
    "    active_nodes = new_actived_nodes\n",
    "\n",
    "final_actived_node = 0\n",
    "for node in nodes:\n",
    "    if nodes_status[node] == 2:\n",
    "        final_actived_node += 1"
   ]
  },
  {
   "cell_type": "markdown",
   "metadata": {},
   "source": [
    "## Result & Statistics"
   ]
  },
  {
   "cell_type": "code",
   "execution_count": 35,
   "metadata": {},
   "outputs": [
    {
     "name": "stdout",
     "output_type": "stream",
     "text": [
      "Finally acticed nodes: 9154\n"
     ]
    },
    {
     "data": {
      "image/png": "[encoded data removed]",
      "text/plain": [
       "<Figure size 576x288 with 2 Axes>"
      ]
     },
     "metadata": {
      "needs_background": "light"
     },
     "output_type": "display_data"
    }
   ],
   "source": [
    "print('Finally acticed nodes: {}'.format(final_actived_node)) \n",
    "\n",
    "epoches = np.arange(epoch)\n",
    "\n",
    "plt.figure(figsize=(8, 4))\n",
    "\n",
    "plt.subplot(121)\n",
    "plt.plot(epoches, num_new_actived_nodes, 'r^')\n",
    "plt.subplot(122)\n",
    "plt.plot(epoches, num_actived_nodes_list, 'r^')\n",
    "\n",
    "plt.show()"
   ]
  },
  {
   "cell_type": "markdown",
   "metadata": {},
   "source": [
    "# Calculate Influent Number (Multi Round)"
   ]
  },
  {
   "cell_type": "code",
   "execution_count": 42,
   "metadata": {},
   "outputs": [],
   "source": [
    "epoches = 10\n",
    "final_actived_node_stastics = []"
   ]
  },
  {
   "cell_type": "markdown",
   "metadata": {},
   "source": [
    "## Preperation"
   ]
  },
  {
   "cell_type": "code",
   "execution_count": 43,
   "metadata": {},
   "outputs": [],
   "source": [
    "in_degree = {}\n",
    "init_inactive_nodes = []\n",
    "init_active_nodes = []\n",
    "init_actived_nodes = []\n",
    "init_nodes_status = {}\n",
    "\n",
    "for edge in graph: \n",
    "    if edge[0] in seeds:\n",
    "        init_active_nodes.append(edge[0])\n",
    "    else:\n",
    "        init_inactive_nodes.append(edge[0])\n",
    "\n",
    "    if edge[1] in seeds:\n",
    "        init_active_nodes.append(edge[1])\n",
    "    else:\n",
    "        init_inactive_nodes.append(edge[1])\n",
    "\n",
    "    if edge[1] in in_degree:\n",
    "        in_degree[edge[1]] += 1\n",
    "    else:\n",
    "        in_degree[edge[1]] = 1\n",
    "\n",
    "init_active_nodes = list(set(init_active_nodes))\n",
    "init_inactive_nodes = list(set(init_inactive_nodes))\n",
    "\n",
    "for node in nodes:\n",
    "    init_nodes_status[node] = 0\n",
    "for node in active_nodes:\n",
    "    init_nodes_status[node] = 1"
   ]
  },
  {
   "cell_type": "code",
   "execution_count": 44,
   "metadata": {},
   "outputs": [],
   "source": [
    "for epoch in range(epoches):\n",
    "    inactive_nodes = init_inactive_nodes\n",
    "    active_nodes = init_active_nodes\n",
    "    actived_nodes = init_actived_nodes\n",
    "    nodes_status = init_nodes_status.copy()\n",
    "\n",
    "    while(active_nodes):\n",
    "        new_actived_nodes = []\n",
    "        for edge in graph:\n",
    "            if nodes_status[edge[0]] == 1:\n",
    "                if nodes_status[edge[1]] == 0:\n",
    "                    p = np.array([1 - threshold / in_degree[edge[1]], threshold / in_degree[edge[1]]])\n",
    "                    flag = np.random.choice([0, 1], p=p.ravel())\n",
    "\n",
    "                    if flag:\n",
    "                        new_actived_nodes.append(edge[1])\n",
    "\n",
    "        for node in active_nodes:\n",
    "            nodes_status[node] = 2\n",
    "        for node in new_actived_nodes:\n",
    "            nodes_status[node] = 1\n",
    "        active_nodes = new_actived_nodes\n",
    "\n",
    "    final_actived_node = 0\n",
    "    for node in nodes:\n",
    "        if nodes_status[node] == 2:\n",
    "            final_actived_node += 1\n",
    "    \n",
    "    final_actived_node_stastics.append(final_actived_node)"
   ]
  },
  {
   "cell_type": "markdown",
   "metadata": {},
   "source": [
    "## Results & Statistics"
   ]
  },
  {
   "cell_type": "code",
   "execution_count": 45,
   "metadata": {},
   "outputs": [
    {
     "name": "stdout",
     "output_type": "stream",
     "text": [
      "Average finally acticed nodes: 75.0\n"
     ]
    },
    {
     "data": {
      "image/png": "[encoded data removed]",
      "text/plain": [
       "<Figure size 432x288 with 1 Axes>"
      ]
     },
     "metadata": {
      "needs_background": "light"
     },
     "output_type": "display_data"
    }
   ],
   "source": [
    "print('Average finally acticed nodes: {}'.format(np.mean(np.array(final_actived_node_stastics)))) \n",
    "\n",
    "plt.plot(range(epoches), final_actived_node_stastics, 'r^')\n",
    "plt.show()"
   ]
  }
 ],
 "metadata": {
  "kernelspec": {
   "display_name": "Python 3",
   "language": "python",
   "name": "python3"
  },
  "language_info": {
   "codemirror_mode": {
    "name": "ipython",
    "version": 3
   },
   "file_extension": ".py",
   "mimetype": "text/x-python",
   "name": "python",
   "nbconvert_exporter": "python",
   "pygments_lexer": "ipython3",
   "version": "3.9.0"
  }
 },
 "nbformat": 4,
 "nbformat_minor": 4
}
